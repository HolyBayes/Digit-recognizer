{
 "cells": [
  {
   "cell_type": "markdown",
   "metadata": {},
   "source": [
    "# Распознавание рукописных цифр"
   ]
  },
  {
   "cell_type": "code",
   "execution_count": 1,
   "metadata": {
    "collapsed": false
   },
   "outputs": [],
   "source": [
    "import pandas\n",
    "\n",
    "import numpy as np\n",
    "from matplotlib.pyplot import *\n",
    "import os\n",
    "from numpy import *\n",
    "import random\n",
    "%matplotlib inline"
   ]
  },
  {
   "cell_type": "code",
   "execution_count": 2,
   "metadata": {
    "collapsed": false
   },
   "outputs": [],
   "source": [
    "train_set = pandas.read_csv(\"Documents/digit/train.csv\")\n",
    "test_set = pandas.read_csv(\"Documents/digit/test.csv\")"
   ]
  },
  {
   "cell_type": "code",
   "execution_count": 9,
   "metadata": {
    "collapsed": false
   },
   "outputs": [],
   "source": [
    "# Датасет слишком большой, чтобы обработать его за раз, поэтому будем работать со случайной выборкой\n",
    "sample_size = 3100\n",
    "rows = random.sample(train_set.index, sample_size)\n",
    "pixels = train_set.columns[1:]\n",
    "X_train = train_set[pixels].ix[rows]\n",
    "y_train = train_set[\"label\"].ix[rows]"
   ]
  },
  {
   "cell_type": "markdown",
   "metadata": {},
   "source": [
    "### Визуализация данных"
   ]
  },
  {
   "cell_type": "code",
   "execution_count": 10,
   "metadata": {
    "collapsed": false
   },
   "outputs": [],
   "source": [
    "def reshapeToMatrix(arr):\n",
    "    a = math.sqrt(len(arr))\n",
    "    return arr.reshape((a, a))"
   ]
  },
  {
   "cell_type": "code",
   "execution_count": 11,
   "metadata": {
    "collapsed": false
   },
   "outputs": [
    {
     "data": {
      "image/png": "[encoded data removed]",
      "text/plain": [
       "<matplotlib.figure.Figure at 0xc428070>"
      ]
     },
     "metadata": {},
     "output_type": "display_data"
    }
   ],
   "source": [
    "for i in range(1):\n",
    "    matshow(reshapeToMatrix(X_train.values[i]), cmap=cm.gray)\n",
    "    title(y_train.values[i])\n",
    "    show()"
   ]
  },
  {
   "cell_type": "markdown",
   "metadata": {},
   "source": [
    "Заметим, что вычисляя корень из величин пикселей изображения, мы фильтруем шум"
   ]
  },
  {
   "cell_type": "code",
   "execution_count": 35,
   "metadata": {
    "collapsed": false
   },
   "outputs": [
    {
     "data": {
      "text/plain": [
       "<matplotlib.image.AxesImage at 0xd8c93f0>"
      ]
     },
     "execution_count": 35,
     "metadata": {},
     "output_type": "execute_result"
    },
    {
     "data": {
      "image/png": "[encoded data removed]",
      "text/plain": [
       "<matplotlib.figure.Figure at 0x1b0d2e30>"
      ]
     },
     "metadata": {},
     "output_type": "display_data"
    },
    {
     "data": {
      "image/png": "[encoded data removed]",
      "text/plain": [
       "<matplotlib.figure.Figure at 0x1fbd44d0>"
      ]
     },
     "metadata": {},
     "output_type": "display_data"
    },
    {
     "data": {
      "image/png": "[encoded data removed]",
      "text/plain": [
       "<matplotlib.figure.Figure at 0x14912250>"
      ]
     },
     "metadata": {},
     "output_type": "display_data"
    },
    {
     "data": {
      "image/png": "[encoded data removed]",
      "text/plain": [
       "<matplotlib.figure.Figure at 0xd8bedb0>"
      ]
     },
     "metadata": {},
     "output_type": "display_data"
    }
   ],
   "source": [
    "matrix_A = reshapeToMatrix(X_train.values[0])\n",
    "matshow(matrix_A, cmap=cm.gray)\n",
    "matshow(matrix_A**0.5, cmap=cm.gray)\n",
    "matshow(matrix_A**0.1, cmap=cm.gray)\n",
    "matshow(matrix_A**0.01, cmap=cm.gray)"
   ]
  },
  {
   "cell_type": "markdown",
   "metadata": {},
   "source": [
    "### Машинное обучение"
   ]
  },
  {
   "cell_type": "code",
   "execution_count": 12,
   "metadata": {
    "collapsed": false
   },
   "outputs": [],
   "source": [
    "from sklearn.grid_search import GridSearchCV\n",
    "from sklearn.neighbors import KNeighborsClassifier as KNN\n",
    "from sklearn.metrics import roc_auc_score\n",
    "from sklearn import cross_validation\n",
    "from sklearn import metrics"
   ]
  },
  {
   "cell_type": "markdown",
   "metadata": {},
   "source": [
    "Применим метод ближайших соседей"
   ]
  },
  {
   "cell_type": "code",
   "execution_count": 14,
   "metadata": {
    "collapsed": false
   },
   "outputs": [
    {
     "name": "stdout",
     "output_type": "stream",
     "text": [
      "0.913407928884\n",
      "KNeighborsClassifier(algorithm='auto', leaf_size=30, metric='euclidean',\n",
      "           metric_params=None, n_neighbors=1, p=2, weights='uniform')\n"
     ]
    }
   ],
   "source": [
    "search_params = {\n",
    "  'n_neighbors': arange(1, 70, 10),\n",
    "  'metric': ['euclidean', 'minkowski', 'manhattan']\n",
    "}\n",
    "\n",
    "grid_searcher = GridSearchCV(KNN(), param_grid=search_params,\\\n",
    "                             cv=5, scoring='f1', n_jobs=1)\n",
    "grid_searcher.fit(X_train, y_train)\n",
    "print grid_searcher.best_score_\n",
    "print grid_searcher.best_estimator_"
   ]
  },
  {
   "cell_type": "markdown",
   "metadata": {},
   "source": [
    "Попробуем улучшить наш результат, расширяя тренировочную выборку путем добавления цифр и фильтруя изображения, сдвинутых на 1 пиксель. Для этого нам придется модифицировать процесс кросс-валидации, так как мы не можем использовать сдвинутые цифры на тесте."
   ]
  },
  {
   "cell_type": "markdown",
   "metadata": {},
   "source": [
    "Исходная выборка"
   ]
  },
  {
   "cell_type": "code",
   "execution_count": 44,
   "metadata": {
    "collapsed": false
   },
   "outputs": [
    {
     "name": "stdout",
     "output_type": "stream",
     "text": [
      "Accuracy: 0.9147 (+/- 0.0166)\n"
     ]
    }
   ],
   "source": [
    "clf = grid_searcher.best_estimator_\n",
    "from sklearn.cross_validation import KFold\n",
    "from sklearn.metrics import precision_score\n",
    "kf = KFold(len(y_train), n_folds=5)\n",
    "scores = []\n",
    "for train, test in kf:\n",
    "    X_test = X_train.values[test]\n",
    "    y_test = y_train.values[test]\n",
    "    X_cv_train = X_train.values[train]\n",
    "    y_cv_train = y_train.values[train]\n",
    "\n",
    "    clf.fit(X_cv_train, y_cv_train)\n",
    "    predict = clf.predict(X_test)\n",
    "    scores.append(precision_score(y_test, predict))\n",
    "scores = np.array(scores)\n",
    "print(\"Accuracy: %0.4f (+/- %0.4f)\" % (scores.mean(), scores.std() * 2)) "
   ]
  },
  {
   "cell_type": "markdown",
   "metadata": {},
   "source": [
    "Добавим фильтрацию"
   ]
  },
  {
   "cell_type": "code",
   "execution_count": 46,
   "metadata": {
    "collapsed": false
   },
   "outputs": [
    {
     "name": "stdout",
     "output_type": "stream",
     "text": [
      "Accuracy: 0.9262 (+/- 0.0191)\n"
     ]
    }
   ],
   "source": [
    "filter_value = 0.5\n",
    "from sklearn.cross_validation import KFold\n",
    "from sklearn.metrics import precision_score\n",
    "kf = KFold(len(y_train), n_folds=5)\n",
    "scores = []\n",
    "for train, test in kf:\n",
    "    X_test = X_train.values[test]**filter_value # фильтрация\n",
    "    y_test = y_train.values[test]\n",
    "    X_cv_train = X_train.values[train]**filter_value # фильтрация\n",
    "    y_cv_train = y_train.values[train]\n",
    "\n",
    "    clf.fit(X_cv_train, y_cv_train)\n",
    "    predict = clf.predict(X_test)\n",
    "    scores.append(precision_score(y_test, predict))\n",
    "scores = np.array(scores)\n",
    "print(\"Accuracy: %0.4f (+/- %0.4f)\" % (scores.mean(), scores.std() * 2))    \n"
   ]
  },
  {
   "cell_type": "markdown",
   "metadata": {},
   "source": [
    "Напишем функции для сдвига изображения"
   ]
  },
  {
   "cell_type": "code",
   "execution_count": 42,
   "metadata": {
    "collapsed": true
   },
   "outputs": [],
   "source": [
    "import numpy as np\n",
    "from math import sqrt\n",
    "\n",
    "def shift_up_down(row, shift):\n",
    "    \"\"\"Shifts image left by one pixel\"\"\"\n",
    "    shifted_row = []\n",
    "    weight = int(sqrt(row.size))\n",
    "    for i in range(row.size):\n",
    "        if (i + shift * weight) % weight == i % weight and i + shift * weight < row.size:\n",
    "            shifted_row.append(row[i + shift * weight])\n",
    "        else:\n",
    "            shifted_row.append(0)\n",
    "    return np.array(shifted_row)\n",
    "\n",
    "def shift_left_right(row, shift):\n",
    "    \"\"\"Shifts image left by one pixel\"\"\"\n",
    "    shifted_row = []\n",
    "    weight = int(sqrt(row.size))\n",
    "    for i in range(row.size):\n",
    "        if (i + shift) // weight == i // weight:\n",
    "            shifted_row.append(row[i + shift])\n",
    "        else:\n",
    "            shifted_row.append(0)\n",
    "    return np.array(shifted_row)"
   ]
  },
  {
   "cell_type": "markdown",
   "metadata": {},
   "source": [
    "Добавим сдвиг"
   ]
  },
  {
   "cell_type": "code",
   "execution_count": 43,
   "metadata": {
    "collapsed": false
   },
   "outputs": [
    {
     "name": "stdout",
     "output_type": "stream",
     "text": [
      "Accuracy: 0.9414 (+/- 0.0101)\n"
     ]
    }
   ],
   "source": [
    "from sklearn.cross_validation import KFold\n",
    "from sklearn.metrics import precision_score\n",
    "kf = KFold(len(y_train), n_folds=5)\n",
    "scores = []\n",
    "for train, test in kf:\n",
    "    X_test = X_train.values[test]**filter_value # фильтрация\n",
    "    y_test = y_train.values[test]\n",
    "    X_cv_train = X_train.values[train]**filter_value # фильтрация\n",
    "    y_cv_train = y_train.values[train]\n",
    "\n",
    "    # Сдвиг\n",
    "    shifted_down_X_train = np.apply_along_axis(shift_up_down, arr=X_cv_train, axis=1, shift=-1)\n",
    "    shifted_left_X_train = np.apply_along_axis(shift_left_right, arr=X_cv_train, axis=1, shift=1)\n",
    "    shifted_up_X_train = np.apply_along_axis(shift_up_down, arr=X_cv_train, axis=1, shift=1)\n",
    "    shifted_right_X_train = np.apply_along_axis(shift_left_right, arr=X_cv_train, axis=1, shift=-1)\n",
    "\n",
    "\n",
    "    X_cv_train = np.concatenate((X_cv_train, shifted_left_X_train, shifted_down_X_train,\\\n",
    "                                shifted_right_X_train, shifted_up_X_train), axis=0)\n",
    "    y_cv_train = np.concatenate((y_cv_train, y_cv_train, y_cv_train, y_cv_train, y_cv_train), axis=0)\n",
    "    \n",
    "    clf.fit(X_cv_train, y_cv_train)\n",
    "    predict = clf.predict(X_test)\n",
    "    scores.append(precision_score(y_test, predict))\n",
    "\n",
    "scores = np.array(scores)\n",
    "print(\"Accuracy: %0.4f (+/- %0.4f)\" % (scores.mean(), scores.std() * 2))"
   ]
  },
  {
   "cell_type": "markdown",
   "metadata": {},
   "source": [
    "Как видно, благодаря сдвигу изображений и фильтрации, точность выросла на почти на 3%, что довольно неплохо."
   ]
  },
  {
   "cell_type": "code",
   "execution_count": null,
   "metadata": {
    "collapsed": true
   },
   "outputs": [],
   "source": []
  }
 ],
 "metadata": {
  "kernelspec": {
   "display_name": "Python 2",
   "language": "python",
   "name": "python2"
  },
  "language_info": {
   "codemirror_mode": {
    "name": "ipython",
    "version": 2
   },
   "file_extension": ".py",
   "mimetype": "text/x-python",
   "name": "python",
   "nbconvert_exporter": "python",
   "pygments_lexer": "ipython2",
   "version": "2.7.8"
  }
 },
 "nbformat": 4,
 "nbformat_minor": 0
}
